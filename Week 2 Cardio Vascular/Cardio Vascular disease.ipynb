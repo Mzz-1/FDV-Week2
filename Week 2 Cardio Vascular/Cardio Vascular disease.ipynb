{
 "cells": [
  {
   "cell_type": "code",
   "execution_count": 1,
   "id": "d5813db4",
   "metadata": {},
   "outputs": [],
   "source": [
    "import numpy as np\n",
    "import pandas as pd\n",
    "import seaborn as sns\n",
    "import matplotlib.pyplot as plt\n",
    "from sklearn.model_selection import train_test_split\n",
    "from sklearn.ensemble import RandomForestClassifier\n",
    "from sklearn.metrics import accuracy_score, classification_report"
   ]
  },
  {
   "cell_type": "code",
   "execution_count": 2,
   "id": "052584cd",
   "metadata": {},
   "outputs": [],
   "source": [
    "df= pd.read_csv('cardio.csv',sep=';')"
   ]
  },
  {
   "cell_type": "code",
   "execution_count": 3,
   "id": "32a95b5a",
   "metadata": {},
   "outputs": [
    {
     "data": {
      "text/html": [
       "<div>\n",
       "<style scoped>\n",
       "    .dataframe tbody tr th:only-of-type {\n",
       "        vertical-align: middle;\n",
       "    }\n",
       "\n",
       "    .dataframe tbody tr th {\n",
       "        vertical-align: top;\n",
       "    }\n",
       "\n",
       "    .dataframe thead th {\n",
       "        text-align: right;\n",
       "    }\n",
       "</style>\n",
       "<table border=\"1\" class=\"dataframe\">\n",
       "  <thead>\n",
       "    <tr style=\"text-align: right;\">\n",
       "      <th></th>\n",
       "      <th>id</th>\n",
       "      <th>age</th>\n",
       "      <th>gender</th>\n",
       "      <th>height</th>\n",
       "      <th>weight</th>\n",
       "      <th>ap_hi</th>\n",
       "      <th>ap_lo</th>\n",
       "      <th>cholesterol</th>\n",
       "      <th>gluc</th>\n",
       "      <th>smoke</th>\n",
       "      <th>alco</th>\n",
       "      <th>active</th>\n",
       "      <th>cardio</th>\n",
       "    </tr>\n",
       "  </thead>\n",
       "  <tbody>\n",
       "    <tr>\n",
       "      <th>0</th>\n",
       "      <td>0</td>\n",
       "      <td>18393</td>\n",
       "      <td>2</td>\n",
       "      <td>168</td>\n",
       "      <td>62.0</td>\n",
       "      <td>110</td>\n",
       "      <td>80</td>\n",
       "      <td>1</td>\n",
       "      <td>1</td>\n",
       "      <td>0</td>\n",
       "      <td>0</td>\n",
       "      <td>1</td>\n",
       "      <td>0</td>\n",
       "    </tr>\n",
       "    <tr>\n",
       "      <th>1</th>\n",
       "      <td>2</td>\n",
       "      <td>18857</td>\n",
       "      <td>1</td>\n",
       "      <td>165</td>\n",
       "      <td>64.0</td>\n",
       "      <td>130</td>\n",
       "      <td>70</td>\n",
       "      <td>3</td>\n",
       "      <td>1</td>\n",
       "      <td>0</td>\n",
       "      <td>0</td>\n",
       "      <td>0</td>\n",
       "      <td>1</td>\n",
       "    </tr>\n",
       "    <tr>\n",
       "      <th>2</th>\n",
       "      <td>3</td>\n",
       "      <td>17623</td>\n",
       "      <td>2</td>\n",
       "      <td>169</td>\n",
       "      <td>82.0</td>\n",
       "      <td>150</td>\n",
       "      <td>100</td>\n",
       "      <td>1</td>\n",
       "      <td>1</td>\n",
       "      <td>0</td>\n",
       "      <td>0</td>\n",
       "      <td>1</td>\n",
       "      <td>1</td>\n",
       "    </tr>\n",
       "    <tr>\n",
       "      <th>3</th>\n",
       "      <td>4</td>\n",
       "      <td>17474</td>\n",
       "      <td>1</td>\n",
       "      <td>156</td>\n",
       "      <td>56.0</td>\n",
       "      <td>100</td>\n",
       "      <td>60</td>\n",
       "      <td>1</td>\n",
       "      <td>1</td>\n",
       "      <td>0</td>\n",
       "      <td>0</td>\n",
       "      <td>0</td>\n",
       "      <td>0</td>\n",
       "    </tr>\n",
       "    <tr>\n",
       "      <th>4</th>\n",
       "      <td>8</td>\n",
       "      <td>21914</td>\n",
       "      <td>1</td>\n",
       "      <td>151</td>\n",
       "      <td>67.0</td>\n",
       "      <td>120</td>\n",
       "      <td>80</td>\n",
       "      <td>2</td>\n",
       "      <td>2</td>\n",
       "      <td>0</td>\n",
       "      <td>0</td>\n",
       "      <td>0</td>\n",
       "      <td>0</td>\n",
       "    </tr>\n",
       "  </tbody>\n",
       "</table>\n",
       "</div>"
      ],
      "text/plain": [
       "   id    age  gender  height  weight  ap_hi  ap_lo  cholesterol  gluc  smoke  \\\n",
       "0   0  18393       2     168    62.0    110     80            1     1      0   \n",
       "1   2  18857       1     165    64.0    130     70            3     1      0   \n",
       "2   3  17623       2     169    82.0    150    100            1     1      0   \n",
       "3   4  17474       1     156    56.0    100     60            1     1      0   \n",
       "4   8  21914       1     151    67.0    120     80            2     2      0   \n",
       "\n",
       "   alco  active  cardio  \n",
       "0     0       1       0  \n",
       "1     0       0       1  \n",
       "2     0       1       1  \n",
       "3     0       0       0  \n",
       "4     0       0       0  "
      ]
     },
     "execution_count": 3,
     "metadata": {},
     "output_type": "execute_result"
    }
   ],
   "source": [
    "df.head()"
   ]
  },
  {
   "cell_type": "code",
   "execution_count": 4,
   "id": "f4310128",
   "metadata": {},
   "outputs": [
    {
     "data": {
      "text/plain": [
       "Index(['id', 'age', 'gender', 'height', 'weight', 'ap_hi', 'ap_lo',\n",
       "       'cholesterol', 'gluc', 'smoke', 'alco', 'active', 'cardio'],\n",
       "      dtype='object')"
      ]
     },
     "execution_count": 4,
     "metadata": {},
     "output_type": "execute_result"
    }
   ],
   "source": [
    "df.columns"
   ]
  },
  {
   "cell_type": "code",
   "execution_count": 5,
   "id": "23526f1e",
   "metadata": {},
   "outputs": [
    {
     "name": "stdout",
     "output_type": "stream",
     "text": [
      "<class 'pandas.core.frame.DataFrame'>\n",
      "RangeIndex: 69997 entries, 0 to 69996\n",
      "Data columns (total 13 columns):\n",
      " #   Column       Non-Null Count  Dtype  \n",
      "---  ------       --------------  -----  \n",
      " 0   id           69997 non-null  int64  \n",
      " 1   age          69997 non-null  int64  \n",
      " 2   gender       69997 non-null  int64  \n",
      " 3   height       69997 non-null  int64  \n",
      " 4   weight       69997 non-null  float64\n",
      " 5   ap_hi        69997 non-null  int64  \n",
      " 6   ap_lo        69997 non-null  int64  \n",
      " 7   cholesterol  69997 non-null  int64  \n",
      " 8   gluc         69997 non-null  int64  \n",
      " 9   smoke        69997 non-null  int64  \n",
      " 10  alco         69997 non-null  int64  \n",
      " 11  active       69997 non-null  int64  \n",
      " 12  cardio       69997 non-null  int64  \n",
      "dtypes: float64(1), int64(12)\n",
      "memory usage: 6.9 MB\n"
     ]
    }
   ],
   "source": [
    "df.info()"
   ]
  },
  {
   "cell_type": "code",
   "execution_count": 6,
   "id": "493390a6",
   "metadata": {},
   "outputs": [
    {
     "data": {
      "text/plain": [
       "id             0\n",
       "age            0\n",
       "gender         0\n",
       "height         0\n",
       "weight         0\n",
       "ap_hi          0\n",
       "ap_lo          0\n",
       "cholesterol    0\n",
       "gluc           0\n",
       "smoke          0\n",
       "alco           0\n",
       "active         0\n",
       "cardio         0\n",
       "dtype: int64"
      ]
     },
     "execution_count": 6,
     "metadata": {},
     "output_type": "execute_result"
    }
   ],
   "source": [
    "df.isnull().sum()"
   ]
  },
  {
   "cell_type": "code",
   "execution_count": 7,
   "id": "75a8337b",
   "metadata": {},
   "outputs": [
    {
     "data": {
      "text/plain": [
       "0"
      ]
     },
     "execution_count": 7,
     "metadata": {},
     "output_type": "execute_result"
    }
   ],
   "source": [
    "df.duplicated().sum()"
   ]
  },
  {
   "cell_type": "code",
   "execution_count": 8,
   "id": "f5d495cb",
   "metadata": {},
   "outputs": [],
   "source": [
    "df['age']=df['age']/365"
   ]
  },
  {
   "cell_type": "code",
   "execution_count": 9,
   "id": "367f267d",
   "metadata": {},
   "outputs": [],
   "source": [
    "categorical_values = ['gender', 'cholesterol', 'gluc', 'smoke', 'alco', 'active', 'cardio']"
   ]
  },
  {
   "cell_type": "code",
   "execution_count": 10,
   "id": "c0d637a9",
   "metadata": {},
   "outputs": [
    {
     "data": {
      "text/html": [
       "<div>\n",
       "<style scoped>\n",
       "    .dataframe tbody tr th:only-of-type {\n",
       "        vertical-align: middle;\n",
       "    }\n",
       "\n",
       "    .dataframe tbody tr th {\n",
       "        vertical-align: top;\n",
       "    }\n",
       "\n",
       "    .dataframe thead th {\n",
       "        text-align: right;\n",
       "    }\n",
       "</style>\n",
       "<table border=\"1\" class=\"dataframe\">\n",
       "  <thead>\n",
       "    <tr style=\"text-align: right;\">\n",
       "      <th></th>\n",
       "      <th>id</th>\n",
       "      <th>age</th>\n",
       "      <th>gender</th>\n",
       "      <th>height</th>\n",
       "      <th>weight</th>\n",
       "      <th>ap_hi</th>\n",
       "      <th>ap_lo</th>\n",
       "      <th>cholesterol</th>\n",
       "      <th>gluc</th>\n",
       "      <th>smoke</th>\n",
       "      <th>alco</th>\n",
       "      <th>active</th>\n",
       "      <th>cardio</th>\n",
       "    </tr>\n",
       "  </thead>\n",
       "  <tbody>\n",
       "    <tr>\n",
       "      <th>count</th>\n",
       "      <td>69997.00</td>\n",
       "      <td>69997.00</td>\n",
       "      <td>69997.00</td>\n",
       "      <td>69997.00</td>\n",
       "      <td>69997.0</td>\n",
       "      <td>69997.00</td>\n",
       "      <td>69997.00</td>\n",
       "      <td>69997.00</td>\n",
       "      <td>69997.00</td>\n",
       "      <td>69997.00</td>\n",
       "      <td>69997.00</td>\n",
       "      <td>69997.0</td>\n",
       "      <td>69997.0</td>\n",
       "    </tr>\n",
       "    <tr>\n",
       "      <th>mean</th>\n",
       "      <td>49974.56</td>\n",
       "      <td>53.34</td>\n",
       "      <td>1.35</td>\n",
       "      <td>164.36</td>\n",
       "      <td>74.2</td>\n",
       "      <td>128.82</td>\n",
       "      <td>96.63</td>\n",
       "      <td>1.37</td>\n",
       "      <td>1.23</td>\n",
       "      <td>0.09</td>\n",
       "      <td>0.05</td>\n",
       "      <td>0.8</td>\n",
       "      <td>0.5</td>\n",
       "    </tr>\n",
       "    <tr>\n",
       "      <th>std</th>\n",
       "      <td>28850.07</td>\n",
       "      <td>6.76</td>\n",
       "      <td>0.48</td>\n",
       "      <td>8.21</td>\n",
       "      <td>14.4</td>\n",
       "      <td>154.01</td>\n",
       "      <td>188.48</td>\n",
       "      <td>0.68</td>\n",
       "      <td>0.57</td>\n",
       "      <td>0.28</td>\n",
       "      <td>0.23</td>\n",
       "      <td>0.4</td>\n",
       "      <td>0.5</td>\n",
       "    </tr>\n",
       "    <tr>\n",
       "      <th>min</th>\n",
       "      <td>0.00</td>\n",
       "      <td>29.58</td>\n",
       "      <td>1.00</td>\n",
       "      <td>55.00</td>\n",
       "      <td>10.0</td>\n",
       "      <td>-150.00</td>\n",
       "      <td>-70.00</td>\n",
       "      <td>1.00</td>\n",
       "      <td>1.00</td>\n",
       "      <td>0.00</td>\n",
       "      <td>0.00</td>\n",
       "      <td>0.0</td>\n",
       "      <td>0.0</td>\n",
       "    </tr>\n",
       "    <tr>\n",
       "      <th>25%</th>\n",
       "      <td>25009.00</td>\n",
       "      <td>48.39</td>\n",
       "      <td>1.00</td>\n",
       "      <td>159.00</td>\n",
       "      <td>65.0</td>\n",
       "      <td>120.00</td>\n",
       "      <td>80.00</td>\n",
       "      <td>1.00</td>\n",
       "      <td>1.00</td>\n",
       "      <td>0.00</td>\n",
       "      <td>0.00</td>\n",
       "      <td>1.0</td>\n",
       "      <td>0.0</td>\n",
       "    </tr>\n",
       "    <tr>\n",
       "      <th>50%</th>\n",
       "      <td>50004.00</td>\n",
       "      <td>53.98</td>\n",
       "      <td>1.00</td>\n",
       "      <td>165.00</td>\n",
       "      <td>72.0</td>\n",
       "      <td>120.00</td>\n",
       "      <td>80.00</td>\n",
       "      <td>1.00</td>\n",
       "      <td>1.00</td>\n",
       "      <td>0.00</td>\n",
       "      <td>0.00</td>\n",
       "      <td>1.0</td>\n",
       "      <td>0.0</td>\n",
       "    </tr>\n",
       "    <tr>\n",
       "      <th>75%</th>\n",
       "      <td>74890.00</td>\n",
       "      <td>58.43</td>\n",
       "      <td>2.00</td>\n",
       "      <td>170.00</td>\n",
       "      <td>82.0</td>\n",
       "      <td>140.00</td>\n",
       "      <td>90.00</td>\n",
       "      <td>2.00</td>\n",
       "      <td>1.00</td>\n",
       "      <td>0.00</td>\n",
       "      <td>0.00</td>\n",
       "      <td>1.0</td>\n",
       "      <td>1.0</td>\n",
       "    </tr>\n",
       "    <tr>\n",
       "      <th>max</th>\n",
       "      <td>99999.00</td>\n",
       "      <td>64.97</td>\n",
       "      <td>2.00</td>\n",
       "      <td>250.00</td>\n",
       "      <td>200.0</td>\n",
       "      <td>16020.00</td>\n",
       "      <td>11000.00</td>\n",
       "      <td>3.00</td>\n",
       "      <td>3.00</td>\n",
       "      <td>1.00</td>\n",
       "      <td>1.00</td>\n",
       "      <td>1.0</td>\n",
       "      <td>1.0</td>\n",
       "    </tr>\n",
       "  </tbody>\n",
       "</table>\n",
       "</div>"
      ],
      "text/plain": [
       "             id       age    gender    height   weight     ap_hi     ap_lo  \\\n",
       "count  69997.00  69997.00  69997.00  69997.00  69997.0  69997.00  69997.00   \n",
       "mean   49974.56     53.34      1.35    164.36     74.2    128.82     96.63   \n",
       "std    28850.07      6.76      0.48      8.21     14.4    154.01    188.48   \n",
       "min        0.00     29.58      1.00     55.00     10.0   -150.00    -70.00   \n",
       "25%    25009.00     48.39      1.00    159.00     65.0    120.00     80.00   \n",
       "50%    50004.00     53.98      1.00    165.00     72.0    120.00     80.00   \n",
       "75%    74890.00     58.43      2.00    170.00     82.0    140.00     90.00   \n",
       "max    99999.00     64.97      2.00    250.00    200.0  16020.00  11000.00   \n",
       "\n",
       "       cholesterol      gluc     smoke      alco   active   cardio  \n",
       "count     69997.00  69997.00  69997.00  69997.00  69997.0  69997.0  \n",
       "mean          1.37      1.23      0.09      0.05      0.8      0.5  \n",
       "std           0.68      0.57      0.28      0.23      0.4      0.5  \n",
       "min           1.00      1.00      0.00      0.00      0.0      0.0  \n",
       "25%           1.00      1.00      0.00      0.00      1.0      0.0  \n",
       "50%           1.00      1.00      0.00      0.00      1.0      0.0  \n",
       "75%           2.00      1.00      0.00      0.00      1.0      1.0  \n",
       "max           3.00      3.00      1.00      1.00      1.0      1.0  "
      ]
     },
     "execution_count": 10,
     "metadata": {},
     "output_type": "execute_result"
    }
   ],
   "source": [
    "np.round(df.describe(),2)"
   ]
  },
  {
   "cell_type": "code",
   "execution_count": 11,
   "id": "f56080eb",
   "metadata": {},
   "outputs": [],
   "source": [
    "#np.round(df.describe(include=\"string\"),2)"
   ]
  },
  {
   "cell_type": "code",
   "execution_count": 12,
   "id": "43e6a0f1",
   "metadata": {},
   "outputs": [
    {
     "data": {
      "text/plain": [
       "<Axes: xlabel='cardio', ylabel='count'>"
      ]
     },
     "execution_count": 12,
     "metadata": {},
     "output_type": "execute_result"
    },
    {
     "data": {
      "image/png": "[encoded data removed]",
      "text/plain": [
       "<Figure size 640x480 with 1 Axes>"
      ]
     },
     "metadata": {},
     "output_type": "display_data"
    }
   ],
   "source": [
    "sns.countplot(data=df, x='cardio')"
   ]
  },
  {
   "cell_type": "markdown",
   "id": "6e96a1ce",
   "metadata": {},
   "source": [
    "From the avove chart we can conclude that there is no class imbalance."
   ]
  },
  {
   "cell_type": "code",
   "execution_count": 13,
   "id": "337ce75c",
   "metadata": {
    "scrolled": false
   },
   "outputs": [
    {
     "data": {
      "image/png": "[encoded data removed]",
      "text/plain": [
       "<Figure size 640x480 with 7 Axes>"
      ]
     },
     "metadata": {},
     "output_type": "display_data"
    }
   ],
   "source": [
    "for i, col in enumerate(categorical_values, 1):\n",
    "    plt.subplot(3, 3, i)\n",
    "    sns.countplot(data=df, x=col)\n",
    "\n",
    "plt.tight_layout()\n",
    "plt.show()"
   ]
  },
  {
   "cell_type": "code",
   "execution_count": 14,
   "id": "6d0fa940",
   "metadata": {},
   "outputs": [
    {
     "data": {
      "text/html": [
       "<div>\n",
       "<style scoped>\n",
       "    .dataframe tbody tr th:only-of-type {\n",
       "        vertical-align: middle;\n",
       "    }\n",
       "\n",
       "    .dataframe tbody tr th {\n",
       "        vertical-align: top;\n",
       "    }\n",
       "\n",
       "    .dataframe thead th {\n",
       "        text-align: right;\n",
       "    }\n",
       "</style>\n",
       "<table border=\"1\" class=\"dataframe\">\n",
       "  <thead>\n",
       "    <tr style=\"text-align: right;\">\n",
       "      <th></th>\n",
       "      <th>id</th>\n",
       "      <th>age</th>\n",
       "      <th>gender</th>\n",
       "      <th>height</th>\n",
       "      <th>weight</th>\n",
       "      <th>ap_hi</th>\n",
       "      <th>ap_lo</th>\n",
       "      <th>cholesterol</th>\n",
       "      <th>gluc</th>\n",
       "      <th>smoke</th>\n",
       "      <th>alco</th>\n",
       "      <th>active</th>\n",
       "      <th>cardio</th>\n",
       "    </tr>\n",
       "  </thead>\n",
       "  <tbody>\n",
       "    <tr>\n",
       "      <th>count</th>\n",
       "      <td>69997.00</td>\n",
       "      <td>69997.00</td>\n",
       "      <td>69997.00</td>\n",
       "      <td>69997.00</td>\n",
       "      <td>69997.0</td>\n",
       "      <td>69997.00</td>\n",
       "      <td>69997.00</td>\n",
       "      <td>69997.00</td>\n",
       "      <td>69997.00</td>\n",
       "      <td>69997.00</td>\n",
       "      <td>69997.00</td>\n",
       "      <td>69997.0</td>\n",
       "      <td>69997.0</td>\n",
       "    </tr>\n",
       "    <tr>\n",
       "      <th>mean</th>\n",
       "      <td>49974.56</td>\n",
       "      <td>53.34</td>\n",
       "      <td>1.35</td>\n",
       "      <td>164.36</td>\n",
       "      <td>74.2</td>\n",
       "      <td>128.82</td>\n",
       "      <td>96.63</td>\n",
       "      <td>1.37</td>\n",
       "      <td>1.23</td>\n",
       "      <td>0.09</td>\n",
       "      <td>0.05</td>\n",
       "      <td>0.8</td>\n",
       "      <td>0.5</td>\n",
       "    </tr>\n",
       "    <tr>\n",
       "      <th>std</th>\n",
       "      <td>28850.07</td>\n",
       "      <td>6.76</td>\n",
       "      <td>0.48</td>\n",
       "      <td>8.21</td>\n",
       "      <td>14.4</td>\n",
       "      <td>154.01</td>\n",
       "      <td>188.48</td>\n",
       "      <td>0.68</td>\n",
       "      <td>0.57</td>\n",
       "      <td>0.28</td>\n",
       "      <td>0.23</td>\n",
       "      <td>0.4</td>\n",
       "      <td>0.5</td>\n",
       "    </tr>\n",
       "    <tr>\n",
       "      <th>min</th>\n",
       "      <td>0.00</td>\n",
       "      <td>29.58</td>\n",
       "      <td>1.00</td>\n",
       "      <td>55.00</td>\n",
       "      <td>10.0</td>\n",
       "      <td>-150.00</td>\n",
       "      <td>-70.00</td>\n",
       "      <td>1.00</td>\n",
       "      <td>1.00</td>\n",
       "      <td>0.00</td>\n",
       "      <td>0.00</td>\n",
       "      <td>0.0</td>\n",
       "      <td>0.0</td>\n",
       "    </tr>\n",
       "    <tr>\n",
       "      <th>25%</th>\n",
       "      <td>25009.00</td>\n",
       "      <td>48.39</td>\n",
       "      <td>1.00</td>\n",
       "      <td>159.00</td>\n",
       "      <td>65.0</td>\n",
       "      <td>120.00</td>\n",
       "      <td>80.00</td>\n",
       "      <td>1.00</td>\n",
       "      <td>1.00</td>\n",
       "      <td>0.00</td>\n",
       "      <td>0.00</td>\n",
       "      <td>1.0</td>\n",
       "      <td>0.0</td>\n",
       "    </tr>\n",
       "    <tr>\n",
       "      <th>50%</th>\n",
       "      <td>50004.00</td>\n",
       "      <td>53.98</td>\n",
       "      <td>1.00</td>\n",
       "      <td>165.00</td>\n",
       "      <td>72.0</td>\n",
       "      <td>120.00</td>\n",
       "      <td>80.00</td>\n",
       "      <td>1.00</td>\n",
       "      <td>1.00</td>\n",
       "      <td>0.00</td>\n",
       "      <td>0.00</td>\n",
       "      <td>1.0</td>\n",
       "      <td>0.0</td>\n",
       "    </tr>\n",
       "    <tr>\n",
       "      <th>75%</th>\n",
       "      <td>74890.00</td>\n",
       "      <td>58.43</td>\n",
       "      <td>2.00</td>\n",
       "      <td>170.00</td>\n",
       "      <td>82.0</td>\n",
       "      <td>140.00</td>\n",
       "      <td>90.00</td>\n",
       "      <td>2.00</td>\n",
       "      <td>1.00</td>\n",
       "      <td>0.00</td>\n",
       "      <td>0.00</td>\n",
       "      <td>1.0</td>\n",
       "      <td>1.0</td>\n",
       "    </tr>\n",
       "    <tr>\n",
       "      <th>max</th>\n",
       "      <td>99999.00</td>\n",
       "      <td>64.97</td>\n",
       "      <td>2.00</td>\n",
       "      <td>250.00</td>\n",
       "      <td>200.0</td>\n",
       "      <td>16020.00</td>\n",
       "      <td>11000.00</td>\n",
       "      <td>3.00</td>\n",
       "      <td>3.00</td>\n",
       "      <td>1.00</td>\n",
       "      <td>1.00</td>\n",
       "      <td>1.0</td>\n",
       "      <td>1.0</td>\n",
       "    </tr>\n",
       "  </tbody>\n",
       "</table>\n",
       "</div>"
      ],
      "text/plain": [
       "             id       age    gender    height   weight     ap_hi     ap_lo  \\\n",
       "count  69997.00  69997.00  69997.00  69997.00  69997.0  69997.00  69997.00   \n",
       "mean   49974.56     53.34      1.35    164.36     74.2    128.82     96.63   \n",
       "std    28850.07      6.76      0.48      8.21     14.4    154.01    188.48   \n",
       "min        0.00     29.58      1.00     55.00     10.0   -150.00    -70.00   \n",
       "25%    25009.00     48.39      1.00    159.00     65.0    120.00     80.00   \n",
       "50%    50004.00     53.98      1.00    165.00     72.0    120.00     80.00   \n",
       "75%    74890.00     58.43      2.00    170.00     82.0    140.00     90.00   \n",
       "max    99999.00     64.97      2.00    250.00    200.0  16020.00  11000.00   \n",
       "\n",
       "       cholesterol      gluc     smoke      alco   active   cardio  \n",
       "count     69997.00  69997.00  69997.00  69997.00  69997.0  69997.0  \n",
       "mean          1.37      1.23      0.09      0.05      0.8      0.5  \n",
       "std           0.68      0.57      0.28      0.23      0.4      0.5  \n",
       "min           1.00      1.00      0.00      0.00      0.0      0.0  \n",
       "25%           1.00      1.00      0.00      0.00      1.0      0.0  \n",
       "50%           1.00      1.00      0.00      0.00      1.0      0.0  \n",
       "75%           2.00      1.00      0.00      0.00      1.0      1.0  \n",
       "max           3.00      3.00      1.00      1.00      1.0      1.0  "
      ]
     },
     "execution_count": 14,
     "metadata": {},
     "output_type": "execute_result"
    }
   ],
   "source": [
    "np.round(df.describe(),2)"
   ]
  },
  {
   "cell_type": "markdown",
   "id": "b1242135",
   "metadata": {},
   "source": [
    "# Remove outliers"
   ]
  },
  {
   "cell_type": "code",
   "execution_count": 16,
   "id": "d97a50b3",
   "metadata": {},
   "outputs": [],
   "source": [
    "# Calculate Z-scores \n",
    "z_scores_weight = (df['weight'] - df['weight'].mean()) / df['weight'].std()\n",
    "z_scores_height = (df['height'] - df['height'].mean()) / df['height'].std()\n",
    "\n",
    "threshold = 3\n",
    "\n",
    "# Find indices of outliers\n",
    "outliers_weight = z_scores_weight.abs() > threshold\n",
    "outliers_height = z_scores_height.abs() > threshold\n",
    "\n",
    "# Remove outliers from the DataFrame\n",
    "df = df[~(outliers_weight | outliers_height)]"
   ]
  },
  {
   "cell_type": "code",
   "execution_count": 17,
   "id": "fbed951f",
   "metadata": {},
   "outputs": [
    {
     "data": {
      "text/html": [
       "<div>\n",
       "<style scoped>\n",
       "    .dataframe tbody tr th:only-of-type {\n",
       "        vertical-align: middle;\n",
       "    }\n",
       "\n",
       "    .dataframe tbody tr th {\n",
       "        vertical-align: top;\n",
       "    }\n",
       "\n",
       "    .dataframe thead th {\n",
       "        text-align: right;\n",
       "    }\n",
       "</style>\n",
       "<table border=\"1\" class=\"dataframe\">\n",
       "  <thead>\n",
       "    <tr style=\"text-align: right;\">\n",
       "      <th></th>\n",
       "      <th>id</th>\n",
       "      <th>age</th>\n",
       "      <th>gender</th>\n",
       "      <th>height</th>\n",
       "      <th>weight</th>\n",
       "      <th>ap_hi</th>\n",
       "      <th>ap_lo</th>\n",
       "      <th>cholesterol</th>\n",
       "      <th>gluc</th>\n",
       "      <th>smoke</th>\n",
       "      <th>alco</th>\n",
       "      <th>active</th>\n",
       "      <th>cardio</th>\n",
       "    </tr>\n",
       "  </thead>\n",
       "  <tbody>\n",
       "    <tr>\n",
       "      <th>count</th>\n",
       "      <td>69025.0</td>\n",
       "      <td>69025.0</td>\n",
       "      <td>69025.0</td>\n",
       "      <td>69025.0</td>\n",
       "      <td>69025.0</td>\n",
       "      <td>69025.0</td>\n",
       "      <td>69025.0</td>\n",
       "      <td>69025.0</td>\n",
       "      <td>69025.0</td>\n",
       "      <td>69025.0</td>\n",
       "      <td>69025.0</td>\n",
       "      <td>69025.0</td>\n",
       "      <td>69025.0</td>\n",
       "    </tr>\n",
       "    <tr>\n",
       "      <th>mean</th>\n",
       "      <td>49968.0</td>\n",
       "      <td>53.0</td>\n",
       "      <td>1.0</td>\n",
       "      <td>164.0</td>\n",
       "      <td>74.0</td>\n",
       "      <td>129.0</td>\n",
       "      <td>96.0</td>\n",
       "      <td>1.0</td>\n",
       "      <td>1.0</td>\n",
       "      <td>0.0</td>\n",
       "      <td>0.0</td>\n",
       "      <td>1.0</td>\n",
       "      <td>0.0</td>\n",
       "    </tr>\n",
       "    <tr>\n",
       "      <th>std</th>\n",
       "      <td>28847.0</td>\n",
       "      <td>7.0</td>\n",
       "      <td>0.0</td>\n",
       "      <td>8.0</td>\n",
       "      <td>13.0</td>\n",
       "      <td>155.0</td>\n",
       "      <td>189.0</td>\n",
       "      <td>1.0</td>\n",
       "      <td>1.0</td>\n",
       "      <td>0.0</td>\n",
       "      <td>0.0</td>\n",
       "      <td>0.0</td>\n",
       "      <td>0.0</td>\n",
       "    </tr>\n",
       "    <tr>\n",
       "      <th>min</th>\n",
       "      <td>0.0</td>\n",
       "      <td>30.0</td>\n",
       "      <td>1.0</td>\n",
       "      <td>140.0</td>\n",
       "      <td>32.0</td>\n",
       "      <td>-150.0</td>\n",
       "      <td>-70.0</td>\n",
       "      <td>1.0</td>\n",
       "      <td>1.0</td>\n",
       "      <td>0.0</td>\n",
       "      <td>0.0</td>\n",
       "      <td>0.0</td>\n",
       "      <td>0.0</td>\n",
       "    </tr>\n",
       "    <tr>\n",
       "      <th>25%</th>\n",
       "      <td>25008.0</td>\n",
       "      <td>48.0</td>\n",
       "      <td>1.0</td>\n",
       "      <td>159.0</td>\n",
       "      <td>65.0</td>\n",
       "      <td>120.0</td>\n",
       "      <td>80.0</td>\n",
       "      <td>1.0</td>\n",
       "      <td>1.0</td>\n",
       "      <td>0.0</td>\n",
       "      <td>0.0</td>\n",
       "      <td>1.0</td>\n",
       "      <td>0.0</td>\n",
       "    </tr>\n",
       "    <tr>\n",
       "      <th>50%</th>\n",
       "      <td>49996.0</td>\n",
       "      <td>54.0</td>\n",
       "      <td>1.0</td>\n",
       "      <td>165.0</td>\n",
       "      <td>72.0</td>\n",
       "      <td>120.0</td>\n",
       "      <td>80.0</td>\n",
       "      <td>1.0</td>\n",
       "      <td>1.0</td>\n",
       "      <td>0.0</td>\n",
       "      <td>0.0</td>\n",
       "      <td>1.0</td>\n",
       "      <td>0.0</td>\n",
       "    </tr>\n",
       "    <tr>\n",
       "      <th>75%</th>\n",
       "      <td>74858.0</td>\n",
       "      <td>58.0</td>\n",
       "      <td>2.0</td>\n",
       "      <td>170.0</td>\n",
       "      <td>82.0</td>\n",
       "      <td>140.0</td>\n",
       "      <td>90.0</td>\n",
       "      <td>2.0</td>\n",
       "      <td>1.0</td>\n",
       "      <td>0.0</td>\n",
       "      <td>0.0</td>\n",
       "      <td>1.0</td>\n",
       "      <td>1.0</td>\n",
       "    </tr>\n",
       "    <tr>\n",
       "      <th>max</th>\n",
       "      <td>99999.0</td>\n",
       "      <td>65.0</td>\n",
       "      <td>2.0</td>\n",
       "      <td>188.0</td>\n",
       "      <td>117.0</td>\n",
       "      <td>16020.0</td>\n",
       "      <td>11000.0</td>\n",
       "      <td>3.0</td>\n",
       "      <td>3.0</td>\n",
       "      <td>1.0</td>\n",
       "      <td>1.0</td>\n",
       "      <td>1.0</td>\n",
       "      <td>1.0</td>\n",
       "    </tr>\n",
       "  </tbody>\n",
       "</table>\n",
       "</div>"
      ],
      "text/plain": [
       "            id      age   gender   height   weight    ap_hi    ap_lo  \\\n",
       "count  69025.0  69025.0  69025.0  69025.0  69025.0  69025.0  69025.0   \n",
       "mean   49968.0     53.0      1.0    164.0     74.0    129.0     96.0   \n",
       "std    28847.0      7.0      0.0      8.0     13.0    155.0    189.0   \n",
       "min        0.0     30.0      1.0    140.0     32.0   -150.0    -70.0   \n",
       "25%    25008.0     48.0      1.0    159.0     65.0    120.0     80.0   \n",
       "50%    49996.0     54.0      1.0    165.0     72.0    120.0     80.0   \n",
       "75%    74858.0     58.0      2.0    170.0     82.0    140.0     90.0   \n",
       "max    99999.0     65.0      2.0    188.0    117.0  16020.0  11000.0   \n",
       "\n",
       "       cholesterol     gluc    smoke     alco   active   cardio  \n",
       "count      69025.0  69025.0  69025.0  69025.0  69025.0  69025.0  \n",
       "mean           1.0      1.0      0.0      0.0      1.0      0.0  \n",
       "std            1.0      1.0      0.0      0.0      0.0      0.0  \n",
       "min            1.0      1.0      0.0      0.0      0.0      0.0  \n",
       "25%            1.0      1.0      0.0      0.0      1.0      0.0  \n",
       "50%            1.0      1.0      0.0      0.0      1.0      0.0  \n",
       "75%            2.0      1.0      0.0      0.0      1.0      1.0  \n",
       "max            3.0      3.0      1.0      1.0      1.0      1.0  "
      ]
     },
     "execution_count": 17,
     "metadata": {},
     "output_type": "execute_result"
    }
   ],
   "source": [
    "np.round(df.describe())"
   ]
  },
  {
   "cell_type": "code",
   "execution_count": 18,
   "id": "8bb71785",
   "metadata": {},
   "outputs": [],
   "source": [
    "y = df.cardio \n",
    "drop_cols = ['id','cardio']\n",
    "x = df.drop(df[drop_cols], axis=1) "
   ]
  },
  {
   "cell_type": "code",
   "execution_count": 19,
   "id": "4ef08108",
   "metadata": {},
   "outputs": [
    {
     "name": "stdout",
     "output_type": "stream",
     "text": [
      "<class 'pandas.core.frame.DataFrame'>\n",
      "Index: 69025 entries, 0 to 69996\n",
      "Data columns (total 13 columns):\n",
      " #   Column       Non-Null Count  Dtype  \n",
      "---  ------       --------------  -----  \n",
      " 0   id           69025 non-null  int64  \n",
      " 1   age          69025 non-null  float64\n",
      " 2   gender       69025 non-null  int64  \n",
      " 3   height       69025 non-null  int64  \n",
      " 4   weight       69025 non-null  float64\n",
      " 5   ap_hi        69025 non-null  int64  \n",
      " 6   ap_lo        69025 non-null  int64  \n",
      " 7   cholesterol  69025 non-null  int64  \n",
      " 8   gluc         69025 non-null  int64  \n",
      " 9   smoke        69025 non-null  int64  \n",
      " 10  alco         69025 non-null  int64  \n",
      " 11  active       69025 non-null  int64  \n",
      " 12  cardio       69025 non-null  int64  \n",
      "dtypes: float64(2), int64(11)\n",
      "memory usage: 7.4 MB\n"
     ]
    }
   ],
   "source": [
    "df.info()"
   ]
  },
  {
   "cell_type": "code",
   "execution_count": 20,
   "id": "4928f0aa",
   "metadata": {},
   "outputs": [
    {
     "data": {
      "text/plain": [
       "<Axes: xlabel='features', ylabel='value'>"
      ]
     },
     "execution_count": 20,
     "metadata": {},
     "output_type": "execute_result"
    },
    {
     "data": {
      "image/png": "[encoded data removed]",
      "text/plain": [
       "<Figure size 1000x1000 with 1 Axes>"
      ]
     },
     "metadata": {},
     "output_type": "display_data"
    }
   ],
   "source": [
    "data = x\n",
    "cols = ['age', 'height', 'weight', 'ap_hi', 'ap_lo']\n",
    "numeric_data = x[cols]\n",
    "numeric_data_std = ((numeric_data-numeric_data.mean())/numeric_data.std())\n",
    "numeric_data = pd.concat([y, numeric_data_std.iloc[:]], axis=1)\n",
    "# converting data from long to wide format\n",
    "numeric_data = pd.melt(numeric_data,id_vars='cardio',var_name='features',value_name='value')\n",
    "plt.figure(figsize=(10,10))\n",
    "sns.violinplot(x='features', y='value',hue='cardio',data=numeric_data, split=True, inner='quart')\n"
   ]
  },
  {
   "cell_type": "code",
   "execution_count": 21,
   "id": "0b95c41a",
   "metadata": {},
   "outputs": [
    {
     "name": "stdout",
     "output_type": "stream",
     "text": [
      "         age  gender  ap_hi  ap_lo  cholesterol  gluc  smoke  alco  active  \\\n",
      "0  50.391781       2    110     80            1     1      0     0       1   \n",
      "1  51.663014       1    130     70            3     1      0     0       0   \n",
      "2  48.282192       2    150    100            1     1      0     0       1   \n",
      "3  47.873973       1    100     60            1     1      0     0       0   \n",
      "4  60.038356       1    120     80            2     2      0     0       0   \n",
      "\n",
      "         BMI  \n",
      "0  21.967120  \n",
      "1  23.507805  \n",
      "2  28.710479  \n",
      "3  23.011177  \n",
      "4  29.384676  \n"
     ]
    }
   ],
   "source": [
    "x['BMI'] = x['weight'] / ((x['height'] / 100) ** 2)  # Convert height to meters\n",
    "\n",
    "# Remove 'height' and 'weight' columns\n",
    "x.drop(['height', 'weight'], axis=1, inplace=True)\n",
    "\n",
    "print(x.head())"
   ]
  },
  {
   "cell_type": "code",
   "execution_count": 22,
   "id": "25f14956",
   "metadata": {},
   "outputs": [
    {
     "data": {
      "text/plain": [
       "<Figure size 1000x1000 with 0 Axes>"
      ]
     },
     "execution_count": 22,
     "metadata": {},
     "output_type": "execute_result"
    },
    {
     "data": {
      "image/png": "[encoded data removed]",
      "text/plain": [
       "<Figure size 640x480 with 1 Axes>"
      ]
     },
     "metadata": {},
     "output_type": "display_data"
    },
    {
     "data": {
      "text/plain": [
       "<Figure size 1000x1000 with 0 Axes>"
      ]
     },
     "metadata": {},
     "output_type": "display_data"
    }
   ],
   "source": [
    "sns.boxplot(x='features' , y='value', hue='cardio', data=numeric_data)\n",
    "plt.figure(figsize=(10,10))"
   ]
  },
  {
   "cell_type": "code",
   "execution_count": 23,
   "id": "007fce58",
   "metadata": {},
   "outputs": [
    {
     "data": {
      "text/html": [
       "<div>\n",
       "<style scoped>\n",
       "    .dataframe tbody tr th:only-of-type {\n",
       "        vertical-align: middle;\n",
       "    }\n",
       "\n",
       "    .dataframe tbody tr th {\n",
       "        vertical-align: top;\n",
       "    }\n",
       "\n",
       "    .dataframe thead th {\n",
       "        text-align: right;\n",
       "    }\n",
       "</style>\n",
       "<table border=\"1\" class=\"dataframe\">\n",
       "  <thead>\n",
       "    <tr style=\"text-align: right;\">\n",
       "      <th></th>\n",
       "      <th>age</th>\n",
       "      <th>gender</th>\n",
       "      <th>ap_hi</th>\n",
       "      <th>ap_lo</th>\n",
       "      <th>cholesterol</th>\n",
       "      <th>gluc</th>\n",
       "      <th>smoke</th>\n",
       "      <th>alco</th>\n",
       "      <th>active</th>\n",
       "      <th>BMI</th>\n",
       "    </tr>\n",
       "  </thead>\n",
       "  <tbody>\n",
       "    <tr>\n",
       "      <th>0</th>\n",
       "      <td>50.391781</td>\n",
       "      <td>2</td>\n",
       "      <td>110</td>\n",
       "      <td>80</td>\n",
       "      <td>1</td>\n",
       "      <td>1</td>\n",
       "      <td>0</td>\n",
       "      <td>0</td>\n",
       "      <td>1</td>\n",
       "      <td>21.967120</td>\n",
       "    </tr>\n",
       "    <tr>\n",
       "      <th>1</th>\n",
       "      <td>51.663014</td>\n",
       "      <td>1</td>\n",
       "      <td>130</td>\n",
       "      <td>70</td>\n",
       "      <td>3</td>\n",
       "      <td>1</td>\n",
       "      <td>0</td>\n",
       "      <td>0</td>\n",
       "      <td>0</td>\n",
       "      <td>23.507805</td>\n",
       "    </tr>\n",
       "    <tr>\n",
       "      <th>2</th>\n",
       "      <td>48.282192</td>\n",
       "      <td>2</td>\n",
       "      <td>150</td>\n",
       "      <td>100</td>\n",
       "      <td>1</td>\n",
       "      <td>1</td>\n",
       "      <td>0</td>\n",
       "      <td>0</td>\n",
       "      <td>1</td>\n",
       "      <td>28.710479</td>\n",
       "    </tr>\n",
       "    <tr>\n",
       "      <th>3</th>\n",
       "      <td>47.873973</td>\n",
       "      <td>1</td>\n",
       "      <td>100</td>\n",
       "      <td>60</td>\n",
       "      <td>1</td>\n",
       "      <td>1</td>\n",
       "      <td>0</td>\n",
       "      <td>0</td>\n",
       "      <td>0</td>\n",
       "      <td>23.011177</td>\n",
       "    </tr>\n",
       "    <tr>\n",
       "      <th>4</th>\n",
       "      <td>60.038356</td>\n",
       "      <td>1</td>\n",
       "      <td>120</td>\n",
       "      <td>80</td>\n",
       "      <td>2</td>\n",
       "      <td>2</td>\n",
       "      <td>0</td>\n",
       "      <td>0</td>\n",
       "      <td>0</td>\n",
       "      <td>29.384676</td>\n",
       "    </tr>\n",
       "  </tbody>\n",
       "</table>\n",
       "</div>"
      ],
      "text/plain": [
       "         age  gender  ap_hi  ap_lo  cholesterol  gluc  smoke  alco  active  \\\n",
       "0  50.391781       2    110     80            1     1      0     0       1   \n",
       "1  51.663014       1    130     70            3     1      0     0       0   \n",
       "2  48.282192       2    150    100            1     1      0     0       1   \n",
       "3  47.873973       1    100     60            1     1      0     0       0   \n",
       "4  60.038356       1    120     80            2     2      0     0       0   \n",
       "\n",
       "         BMI  \n",
       "0  21.967120  \n",
       "1  23.507805  \n",
       "2  28.710479  \n",
       "3  23.011177  \n",
       "4  29.384676  "
      ]
     },
     "execution_count": 23,
     "metadata": {},
     "output_type": "execute_result"
    }
   ],
   "source": [
    "x.head()"
   ]
  },
  {
   "cell_type": "code",
   "execution_count": 24,
   "id": "10ccee23",
   "metadata": {},
   "outputs": [],
   "source": [
    "# Calculating Z-score\n",
    "z_scores_hi = (df['ap_hi'] - df['ap_hi'].mean()) / df['ap_hi'].std()\n",
    "z_scores_lo = (df['ap_lo'] - df['ap_lo'].mean()) / df['ap_lo'].std()\n",
    "\n",
    "threshold = 3\n",
    "\n",
    "# Find indices of outliers\n",
    "outliers_hi = z_scores_hi.abs() > threshold\n",
    "outliers_lo = z_scores_lo.abs() > threshold\n",
    "\n",
    "# Remove outliers from the DataFrame\n",
    "df = df[~(outliers_hi | outliers_lo)]\n"
   ]
  },
  {
   "cell_type": "code",
   "execution_count": 25,
   "id": "28e03059",
   "metadata": {},
   "outputs": [
    {
     "name": "stdout",
     "output_type": "stream",
     "text": [
      "Accuracy: 0.7337196667873959\n",
      "              precision    recall  f1-score   support\n",
      "\n",
      "           0       0.71      0.79      0.75      6883\n",
      "           1       0.76      0.68      0.72      6922\n",
      "\n",
      "    accuracy                           0.73     13805\n",
      "   macro avg       0.74      0.73      0.73     13805\n",
      "weighted avg       0.74      0.73      0.73     13805\n",
      "\n"
     ]
    }
   ],
   "source": [
    "from sklearn.linear_model import LogisticRegression\n",
    "\n",
    "\n",
    "X_train, X_test, y_train, y_test = train_test_split(x, y, test_size=0.2, random_state=42)\n",
    "\n",
    "# Model selection and training\n",
    "model = RandomForestClassifier( random_state=0,max_depth=10)\n",
    "model.fit(X_train, y_train)\n",
    "\n",
    "# Model evaluation\n",
    "y_pred = model.predict(X_test)\n",
    "print(\"Accuracy:\", accuracy_score(y_test, y_pred))\n",
    "print(classification_report(y_test, y_pred))"
   ]
  },
  {
   "cell_type": "code",
   "execution_count": 26,
   "id": "83623c3d",
   "metadata": {},
   "outputs": [
    {
     "data": {
      "text/plain": [
       "array([0.13847864, 0.00643865, 0.47898725, 0.18247007, 0.09107334,\n",
       "       0.01310397, 0.00594798, 0.00434585, 0.00905803, 0.07009622])"
      ]
     },
     "execution_count": 26,
     "metadata": {},
     "output_type": "execute_result"
    }
   ],
   "source": [
    "model.feature_importances_"
   ]
  },
  {
   "cell_type": "code",
   "execution_count": 27,
   "id": "50e2578c",
   "metadata": {},
   "outputs": [
    {
     "data": {
      "image/png": "[encoded data removed]",
      "text/plain": [
       "<Figure size 640x480 with 1 Axes>"
      ]
     },
     "metadata": {},
     "output_type": "display_data"
    }
   ],
   "source": [
    "plt.bar((list(x.columns)), model.feature_importances_)\n",
    "plt.tight_layout()\n",
    "plt.xticks(rotation=90)\n",
    "plt.show()"
   ]
  },
  {
   "cell_type": "code",
   "execution_count": 28,
   "id": "3f7a469f",
   "metadata": {},
   "outputs": [
    {
     "data": {
      "text/plain": [
       "0.7565918145599421"
      ]
     },
     "execution_count": 28,
     "metadata": {},
     "output_type": "execute_result"
    }
   ],
   "source": [
    "model.score(X_train,y_train)"
   ]
  },
  {
   "cell_type": "code",
   "execution_count": 29,
   "id": "dc29f81e",
   "metadata": {},
   "outputs": [
    {
     "data": {
      "text/plain": [
       "0.7337196667873959"
      ]
     },
     "execution_count": 29,
     "metadata": {},
     "output_type": "execute_result"
    }
   ],
   "source": [
    "model.score(X_test,y_test)"
   ]
  },
  {
   "cell_type": "code",
   "execution_count": null,
   "id": "382f1854",
   "metadata": {},
   "outputs": [],
   "source": []
  },
  {
   "cell_type": "code",
   "execution_count": null,
   "id": "9124b839",
   "metadata": {},
   "outputs": [],
   "source": []
  },
  {
   "cell_type": "code",
   "execution_count": null,
   "id": "cb0beaa9",
   "metadata": {},
   "outputs": [],
   "source": []
  }
 ],
 "metadata": {
  "kernelspec": {
   "display_name": "Python 3 (ipykernel)",
   "language": "python",
   "name": "python3"
  },
  "language_info": {
   "codemirror_mode": {
    "name": "ipython",
    "version": 3
   },
   "file_extension": ".py",
   "mimetype": "text/x-python",
   "name": "python",
   "nbconvert_exporter": "python",
   "pygments_lexer": "ipython3",
   "version": "3.11.5"
  }
 },
 "nbformat": 4,
 "nbformat_minor": 5
}
